{
 "cells": [
  {
   "cell_type": "markdown",
   "id": "f1e73148",
   "metadata": {},
   "source": [
    "# TIME SERIES"
   ]
  },
  {
   "cell_type": "markdown",
   "id": "d055abd7",
   "metadata": {},
   "source": [
    "# National Stock Exchange of India."
   ]
  },
  {
   "cell_type": "markdown",
   "id": "0c0b6342",
   "metadata": {},
   "source": [
    "Data link https://www.kaggle.com/datasets/minatverma/nse-stocks-data/data"
   ]
  },
  {
   "cell_type": "markdown",
   "id": "e79048d2",
   "metadata": {},
   "source": [
    "Long short-term memory (LSTM)-\n",
    "network is a recurrent neural network (RNN), aimed to deal with the vanishing gradient problem present in traditional RNNs"
   ]
  },
  {
   "cell_type": "raw",
   "id": "ba9a3ae0",
   "metadata": {},
   "source": [
    "\n",
    "LSTM is a type of RNN addressing the vanishing gradient problem.\n",
    "Vanishing gradient hinders learning long-term dependencies in sequential data.\n",
    "LSTMs use memory cells and gating mechanisms.\n",
    "Specialized cells enable selective memory retention and forgetting.\n",
    "Effective for tasks like natural language processing and time-series prediction."
   ]
  },
  {
   "cell_type": "markdown",
   "id": "59cc8376",
   "metadata": {},
   "source": [
    "# Imports (import libraries)"
   ]
  },
  {
   "cell_type": "code",
   "execution_count": null,
   "id": "96b08233",
   "metadata": {},
   "outputs": [],
   "source": [
    "import numpy as np\n",
    "import pandas as pd\n",
    "\n",
    "import os\n",
    "import matplotlib.pyplot as plt\n",
    "#import pandas_datareader as web\n",
    "import datetime as dt\n",
    "\n",
    "from sklearn.preprocessing import MinMaxScaler\n",
    "from tensorflow.keras.models import Sequential\n",
    "from tensorflow.keras.layers import Dense, Dropout, LSTM\n",
    "from tensorflow.keras.callbacks import ModelCheckpoint, EarlyStopping\n",
    "\n",
    "print (\"The dependancies of the work\")"
   ]
  },
  {
   "cell_type": "code",
   "execution_count": 16,
   "id": "55860db7",
   "metadata": {},
   "outputs": [],
   "source": [
    "stock_df = pd.read_csv(\"india_NSE.csv\")"
   ]
  },
  {
   "cell_type": "code",
   "execution_count": 17,
   "id": "1319c88b",
   "metadata": {},
   "outputs": [
    {
     "data": {
      "text/html": [
       "<div>\n",
       "<style scoped>\n",
       "    .dataframe tbody tr th:only-of-type {\n",
       "        vertical-align: middle;\n",
       "    }\n",
       "\n",
       "    .dataframe tbody tr th {\n",
       "        vertical-align: top;\n",
       "    }\n",
       "\n",
       "    .dataframe thead th {\n",
       "        text-align: right;\n",
       "    }\n",
       "</style>\n",
       "<table border=\"1\" class=\"dataframe\">\n",
       "  <thead>\n",
       "    <tr style=\"text-align: right;\">\n",
       "      <th></th>\n",
       "      <th>SYMBOL</th>\n",
       "      <th>SERIES</th>\n",
       "      <th>OPEN</th>\n",
       "      <th>HIGH</th>\n",
       "      <th>LOW</th>\n",
       "      <th>CLOSE</th>\n",
       "      <th>LAST</th>\n",
       "      <th>PREVCLOSE</th>\n",
       "      <th>TOTTRDQTY</th>\n",
       "      <th>TOTTRDVAL</th>\n",
       "      <th>TIMESTAMP</th>\n",
       "      <th>TOTALTRADES</th>\n",
       "      <th>ISIN</th>\n",
       "    </tr>\n",
       "  </thead>\n",
       "  <tbody>\n",
       "    <tr>\n",
       "      <th>0</th>\n",
       "      <td>20MICRONS</td>\n",
       "      <td>EQ</td>\n",
       "      <td>37.80</td>\n",
       "      <td>37.80</td>\n",
       "      <td>36.15</td>\n",
       "      <td>36.85</td>\n",
       "      <td>37.40</td>\n",
       "      <td>37.05</td>\n",
       "      <td>27130</td>\n",
       "      <td>994657.90</td>\n",
       "      <td>2017-06-28</td>\n",
       "      <td>202</td>\n",
       "      <td>INE144J01027</td>\n",
       "    </tr>\n",
       "    <tr>\n",
       "      <th>1</th>\n",
       "      <td>3IINFOTECH</td>\n",
       "      <td>EQ</td>\n",
       "      <td>4.10</td>\n",
       "      <td>4.85</td>\n",
       "      <td>4.00</td>\n",
       "      <td>4.55</td>\n",
       "      <td>4.65</td>\n",
       "      <td>4.05</td>\n",
       "      <td>20157058</td>\n",
       "      <td>92148517.65</td>\n",
       "      <td>2017-06-28</td>\n",
       "      <td>7353</td>\n",
       "      <td>INE748C01020</td>\n",
       "    </tr>\n",
       "    <tr>\n",
       "      <th>2</th>\n",
       "      <td>3MINDIA</td>\n",
       "      <td>EQ</td>\n",
       "      <td>13425.15</td>\n",
       "      <td>13469.55</td>\n",
       "      <td>12920.00</td>\n",
       "      <td>13266.70</td>\n",
       "      <td>13300.00</td>\n",
       "      <td>13460.55</td>\n",
       "      <td>2290</td>\n",
       "      <td>30304923.35</td>\n",
       "      <td>2017-06-28</td>\n",
       "      <td>748</td>\n",
       "      <td>INE470A01017</td>\n",
       "    </tr>\n",
       "    <tr>\n",
       "      <th>3</th>\n",
       "      <td>63MOONS</td>\n",
       "      <td>EQ</td>\n",
       "      <td>61.00</td>\n",
       "      <td>61.90</td>\n",
       "      <td>60.35</td>\n",
       "      <td>61.00</td>\n",
       "      <td>61.10</td>\n",
       "      <td>60.65</td>\n",
       "      <td>27701</td>\n",
       "      <td>1689421.00</td>\n",
       "      <td>2017-06-28</td>\n",
       "      <td>437</td>\n",
       "      <td>INE111B01023</td>\n",
       "    </tr>\n",
       "    <tr>\n",
       "      <th>4</th>\n",
       "      <td>8KMILES</td>\n",
       "      <td>EQ</td>\n",
       "      <td>546.10</td>\n",
       "      <td>548.00</td>\n",
       "      <td>535.00</td>\n",
       "      <td>537.45</td>\n",
       "      <td>535.20</td>\n",
       "      <td>547.45</td>\n",
       "      <td>79722</td>\n",
       "      <td>43208620.05</td>\n",
       "      <td>2017-06-28</td>\n",
       "      <td>1866</td>\n",
       "      <td>INE650K01021</td>\n",
       "    </tr>\n",
       "  </tbody>\n",
       "</table>\n",
       "</div>"
      ],
      "text/plain": [
       "       SYMBOL SERIES      OPEN      HIGH       LOW     CLOSE      LAST  \\\n",
       "0   20MICRONS     EQ     37.80     37.80     36.15     36.85     37.40   \n",
       "1  3IINFOTECH     EQ      4.10      4.85      4.00      4.55      4.65   \n",
       "2     3MINDIA     EQ  13425.15  13469.55  12920.00  13266.70  13300.00   \n",
       "3     63MOONS     EQ     61.00     61.90     60.35     61.00     61.10   \n",
       "4     8KMILES     EQ    546.10    548.00    535.00    537.45    535.20   \n",
       "\n",
       "   PREVCLOSE  TOTTRDQTY    TOTTRDVAL   TIMESTAMP  TOTALTRADES          ISIN  \n",
       "0      37.05      27130    994657.90  2017-06-28          202  INE144J01027  \n",
       "1       4.05   20157058  92148517.65  2017-06-28         7353  INE748C01020  \n",
       "2   13460.55       2290  30304923.35  2017-06-28          748  INE470A01017  \n",
       "3      60.65      27701   1689421.00  2017-06-28          437  INE111B01023  \n",
       "4     547.45      79722  43208620.05  2017-06-28         1866  INE650K01021  "
      ]
     },
     "execution_count": 17,
     "metadata": {},
     "output_type": "execute_result"
    }
   ],
   "source": [
    "stock_df.head()"
   ]
  },
  {
   "cell_type": "code",
   "execution_count": 18,
   "id": "bb657754",
   "metadata": {},
   "outputs": [
    {
     "data": {
      "text/html": [
       "<div>\n",
       "<style scoped>\n",
       "    .dataframe tbody tr th:only-of-type {\n",
       "        vertical-align: middle;\n",
       "    }\n",
       "\n",
       "    .dataframe tbody tr th {\n",
       "        vertical-align: top;\n",
       "    }\n",
       "\n",
       "    .dataframe thead th {\n",
       "        text-align: right;\n",
       "    }\n",
       "</style>\n",
       "<table border=\"1\" class=\"dataframe\">\n",
       "  <thead>\n",
       "    <tr style=\"text-align: right;\">\n",
       "      <th></th>\n",
       "      <th>SYMBOL</th>\n",
       "      <th>SERIES</th>\n",
       "      <th>OPEN</th>\n",
       "      <th>HIGH</th>\n",
       "      <th>LOW</th>\n",
       "      <th>CLOSE</th>\n",
       "      <th>LAST</th>\n",
       "      <th>PREVCLOSE</th>\n",
       "      <th>TOTTRDQTY</th>\n",
       "      <th>TOTTRDVAL</th>\n",
       "      <th>TIMESTAMP</th>\n",
       "      <th>TOTALTRADES</th>\n",
       "      <th>ISIN</th>\n",
       "    </tr>\n",
       "  </thead>\n",
       "  <tbody>\n",
       "    <tr>\n",
       "      <th>846399</th>\n",
       "      <td>ZOTA</td>\n",
       "      <td>SM</td>\n",
       "      <td>221.0</td>\n",
       "      <td>221.00</td>\n",
       "      <td>214.00</td>\n",
       "      <td>217.00</td>\n",
       "      <td>217.0</td>\n",
       "      <td>220.0</td>\n",
       "      <td>14000</td>\n",
       "      <td>3041550.0</td>\n",
       "      <td>2017-12-29</td>\n",
       "      <td>14</td>\n",
       "      <td>INE358U01012</td>\n",
       "    </tr>\n",
       "    <tr>\n",
       "      <th>846400</th>\n",
       "      <td>ZUARI</td>\n",
       "      <td>EQ</td>\n",
       "      <td>562.0</td>\n",
       "      <td>562.00</td>\n",
       "      <td>549.55</td>\n",
       "      <td>550.80</td>\n",
       "      <td>552.0</td>\n",
       "      <td>556.8</td>\n",
       "      <td>105184</td>\n",
       "      <td>58163061.6</td>\n",
       "      <td>2017-12-29</td>\n",
       "      <td>2218</td>\n",
       "      <td>INE840M01016</td>\n",
       "    </tr>\n",
       "    <tr>\n",
       "      <th>846401</th>\n",
       "      <td>ZUARIGLOB</td>\n",
       "      <td>EQ</td>\n",
       "      <td>255.5</td>\n",
       "      <td>258.40</td>\n",
       "      <td>252.50</td>\n",
       "      <td>253.25</td>\n",
       "      <td>253.0</td>\n",
       "      <td>254.1</td>\n",
       "      <td>90067</td>\n",
       "      <td>22968100.6</td>\n",
       "      <td>2017-12-29</td>\n",
       "      <td>2001</td>\n",
       "      <td>INE217A01012</td>\n",
       "    </tr>\n",
       "    <tr>\n",
       "      <th>846402</th>\n",
       "      <td>ZYDUSWELL</td>\n",
       "      <td>EQ</td>\n",
       "      <td>1038.0</td>\n",
       "      <td>1068.00</td>\n",
       "      <td>1033.00</td>\n",
       "      <td>1043.20</td>\n",
       "      <td>1035.0</td>\n",
       "      <td>1023.1</td>\n",
       "      <td>28601</td>\n",
       "      <td>29938840.1</td>\n",
       "      <td>2017-12-29</td>\n",
       "      <td>1401</td>\n",
       "      <td>INE768C01010</td>\n",
       "    </tr>\n",
       "    <tr>\n",
       "      <th>846403</th>\n",
       "      <td>ZYLOG</td>\n",
       "      <td>EQ</td>\n",
       "      <td>4.3</td>\n",
       "      <td>5.15</td>\n",
       "      <td>4.30</td>\n",
       "      <td>4.65</td>\n",
       "      <td>4.6</td>\n",
       "      <td>4.4</td>\n",
       "      <td>732051</td>\n",
       "      <td>3495213.7</td>\n",
       "      <td>2017-12-29</td>\n",
       "      <td>845</td>\n",
       "      <td>INE225I01026</td>\n",
       "    </tr>\n",
       "  </tbody>\n",
       "</table>\n",
       "</div>"
      ],
      "text/plain": [
       "           SYMBOL SERIES    OPEN     HIGH      LOW    CLOSE    LAST  \\\n",
       "846399       ZOTA     SM   221.0   221.00   214.00   217.00   217.0   \n",
       "846400      ZUARI     EQ   562.0   562.00   549.55   550.80   552.0   \n",
       "846401  ZUARIGLOB     EQ   255.5   258.40   252.50   253.25   253.0   \n",
       "846402  ZYDUSWELL     EQ  1038.0  1068.00  1033.00  1043.20  1035.0   \n",
       "846403      ZYLOG     EQ     4.3     5.15     4.30     4.65     4.6   \n",
       "\n",
       "        PREVCLOSE  TOTTRDQTY   TOTTRDVAL   TIMESTAMP  TOTALTRADES  \\\n",
       "846399      220.0      14000   3041550.0  2017-12-29           14   \n",
       "846400      556.8     105184  58163061.6  2017-12-29         2218   \n",
       "846401      254.1      90067  22968100.6  2017-12-29         2001   \n",
       "846402     1023.1      28601  29938840.1  2017-12-29         1401   \n",
       "846403        4.4     732051   3495213.7  2017-12-29          845   \n",
       "\n",
       "                ISIN  \n",
       "846399  INE358U01012  \n",
       "846400  INE840M01016  \n",
       "846401  INE217A01012  \n",
       "846402  INE768C01010  \n",
       "846403  INE225I01026  "
      ]
     },
     "execution_count": 18,
     "metadata": {},
     "output_type": "execute_result"
    }
   ],
   "source": [
    "nse.tail()"
   ]
  },
  {
   "cell_type": "markdown",
   "id": "a49ddcbe",
   "metadata": {},
   "source": [
    "# Data preprocessing"
   ]
  },
  {
   "cell_type": "code",
   "execution_count": 19,
   "id": "a2dcac71",
   "metadata": {},
   "outputs": [
    {
     "data": {
      "text/plain": [
       "Index(['SYMBOL', 'SERIES', 'OPEN', 'HIGH', 'LOW', 'CLOSE', 'LAST', 'PREVCLOSE',\n",
       "       'TOTTRDQTY', 'TOTTRDVAL', 'TIMESTAMP', 'TOTALTRADES', 'ISIN'],\n",
       "      dtype='object')"
      ]
     },
     "execution_count": 19,
     "metadata": {},
     "output_type": "execute_result"
    }
   ],
   "source": [
    "stock_df.columns"
   ]
  },
  {
   "cell_type": "code",
   "execution_count": 20,
   "id": "06b78243",
   "metadata": {},
   "outputs": [
    {
     "data": {
      "text/html": [
       "<div>\n",
       "<style scoped>\n",
       "    .dataframe tbody tr th:only-of-type {\n",
       "        vertical-align: middle;\n",
       "    }\n",
       "\n",
       "    .dataframe tbody tr th {\n",
       "        vertical-align: top;\n",
       "    }\n",
       "\n",
       "    .dataframe thead th {\n",
       "        text-align: right;\n",
       "    }\n",
       "</style>\n",
       "<table border=\"1\" class=\"dataframe\">\n",
       "  <thead>\n",
       "    <tr style=\"text-align: right;\">\n",
       "      <th></th>\n",
       "      <th>SYMBOL</th>\n",
       "      <th>SERIES</th>\n",
       "      <th>OPEN</th>\n",
       "      <th>HIGH</th>\n",
       "      <th>LOW</th>\n",
       "      <th>CLOSE</th>\n",
       "      <th>LAST</th>\n",
       "      <th>PREVCLOSE</th>\n",
       "      <th>TOTTRDQTY</th>\n",
       "      <th>TOTTRDVAL</th>\n",
       "      <th>TOTALTRADES</th>\n",
       "      <th>ISIN</th>\n",
       "      <th>PER_DAILY_CHANGE</th>\n",
       "    </tr>\n",
       "    <tr>\n",
       "      <th>TIMESTAMP</th>\n",
       "      <th></th>\n",
       "      <th></th>\n",
       "      <th></th>\n",
       "      <th></th>\n",
       "      <th></th>\n",
       "      <th></th>\n",
       "      <th></th>\n",
       "      <th></th>\n",
       "      <th></th>\n",
       "      <th></th>\n",
       "      <th></th>\n",
       "      <th></th>\n",
       "      <th></th>\n",
       "    </tr>\n",
       "  </thead>\n",
       "  <tbody>\n",
       "    <tr>\n",
       "      <th>2017-06-28</th>\n",
       "      <td>20MICRONS</td>\n",
       "      <td>EQ</td>\n",
       "      <td>37.80</td>\n",
       "      <td>37.80</td>\n",
       "      <td>36.15</td>\n",
       "      <td>36.85</td>\n",
       "      <td>37.40</td>\n",
       "      <td>37.05</td>\n",
       "      <td>27130</td>\n",
       "      <td>994657.90</td>\n",
       "      <td>202</td>\n",
       "      <td>INE144J01027</td>\n",
       "      <td>-2.513228</td>\n",
       "    </tr>\n",
       "    <tr>\n",
       "      <th>2017-06-28</th>\n",
       "      <td>3IINFOTECH</td>\n",
       "      <td>EQ</td>\n",
       "      <td>4.10</td>\n",
       "      <td>4.85</td>\n",
       "      <td>4.00</td>\n",
       "      <td>4.55</td>\n",
       "      <td>4.65</td>\n",
       "      <td>4.05</td>\n",
       "      <td>20157058</td>\n",
       "      <td>92148517.65</td>\n",
       "      <td>7353</td>\n",
       "      <td>INE748C01020</td>\n",
       "      <td>10.975610</td>\n",
       "    </tr>\n",
       "    <tr>\n",
       "      <th>2017-06-28</th>\n",
       "      <td>3MINDIA</td>\n",
       "      <td>EQ</td>\n",
       "      <td>13425.15</td>\n",
       "      <td>13469.55</td>\n",
       "      <td>12920.00</td>\n",
       "      <td>13266.70</td>\n",
       "      <td>13300.00</td>\n",
       "      <td>13460.55</td>\n",
       "      <td>2290</td>\n",
       "      <td>30304923.35</td>\n",
       "      <td>748</td>\n",
       "      <td>INE470A01017</td>\n",
       "      <td>-1.180248</td>\n",
       "    </tr>\n",
       "    <tr>\n",
       "      <th>2017-06-28</th>\n",
       "      <td>63MOONS</td>\n",
       "      <td>EQ</td>\n",
       "      <td>61.00</td>\n",
       "      <td>61.90</td>\n",
       "      <td>60.35</td>\n",
       "      <td>61.00</td>\n",
       "      <td>61.10</td>\n",
       "      <td>60.65</td>\n",
       "      <td>27701</td>\n",
       "      <td>1689421.00</td>\n",
       "      <td>437</td>\n",
       "      <td>INE111B01023</td>\n",
       "      <td>0.000000</td>\n",
       "    </tr>\n",
       "    <tr>\n",
       "      <th>2017-06-28</th>\n",
       "      <td>8KMILES</td>\n",
       "      <td>EQ</td>\n",
       "      <td>546.10</td>\n",
       "      <td>548.00</td>\n",
       "      <td>535.00</td>\n",
       "      <td>537.45</td>\n",
       "      <td>535.20</td>\n",
       "      <td>547.45</td>\n",
       "      <td>79722</td>\n",
       "      <td>43208620.05</td>\n",
       "      <td>1866</td>\n",
       "      <td>INE650K01021</td>\n",
       "      <td>-1.583959</td>\n",
       "    </tr>\n",
       "  </tbody>\n",
       "</table>\n",
       "</div>"
      ],
      "text/plain": [
       "                SYMBOL SERIES      OPEN      HIGH       LOW     CLOSE  \\\n",
       "TIMESTAMP                                                               \n",
       "2017-06-28   20MICRONS     EQ     37.80     37.80     36.15     36.85   \n",
       "2017-06-28  3IINFOTECH     EQ      4.10      4.85      4.00      4.55   \n",
       "2017-06-28     3MINDIA     EQ  13425.15  13469.55  12920.00  13266.70   \n",
       "2017-06-28     63MOONS     EQ     61.00     61.90     60.35     61.00   \n",
       "2017-06-28     8KMILES     EQ    546.10    548.00    535.00    537.45   \n",
       "\n",
       "                LAST  PREVCLOSE  TOTTRDQTY    TOTTRDVAL  TOTALTRADES  \\\n",
       "TIMESTAMP                                                              \n",
       "2017-06-28     37.40      37.05      27130    994657.90          202   \n",
       "2017-06-28      4.65       4.05   20157058  92148517.65         7353   \n",
       "2017-06-28  13300.00   13460.55       2290  30304923.35          748   \n",
       "2017-06-28     61.10      60.65      27701   1689421.00          437   \n",
       "2017-06-28    535.20     547.45      79722  43208620.05         1866   \n",
       "\n",
       "                    ISIN  PER_DAILY_CHANGE  \n",
       "TIMESTAMP                                   \n",
       "2017-06-28  INE144J01027         -2.513228  \n",
       "2017-06-28  INE748C01020         10.975610  \n",
       "2017-06-28  INE470A01017         -1.180248  \n",
       "2017-06-28  INE111B01023          0.000000  \n",
       "2017-06-28  INE650K01021         -1.583959  "
      ]
     },
     "execution_count": 20,
     "metadata": {},
     "output_type": "execute_result"
    }
   ],
   "source": [
    "# convert TIMESTAMP to datetime instance\n",
    "stock_df['TIMESTAMP'] = pd.to_datetime(stock_df.TIMESTAMP, dayfirst = True)\n",
    "stock_df.set_index('TIMESTAMP', inplace = True)\n",
    "stock_df['PER_DAILY_CHANGE'] = (stock_df.CLOSE - stock_df.OPEN)*100/stock_df.OPEN\n",
    "stock_df.head()"
   ]
  },
  {
   "cell_type": "code",
   "execution_count": 21,
   "id": "b6ba0f83",
   "metadata": {},
   "outputs": [
    {
     "name": "stdout",
     "output_type": "stream",
     "text": [
      "total number of unique symbols is  2037\n"
     ]
    },
    {
     "data": {
      "text/plain": [
       "array(['20MICRONS', '3IINFOTECH', '3MINDIA', '63MOONS', '8KMILES',\n",
       "       'A2ZINFRA', 'AARTIDRUGS', 'AARTIIND', 'AARVEEDEN', 'ABAN'],\n",
       "      dtype=object)"
      ]
     },
     "execution_count": 21,
     "metadata": {},
     "output_type": "execute_result"
    }
   ],
   "source": [
    "#Lets check how many different symbols are present in the dataset\n",
    "unique_symb = stock_df['SYMBOL'].unique()\n",
    "print(\"total number of unique symbols is \", len(unique_symb))\n",
    "\n",
    "#let's print top 10 different symbols\n",
    "unique_symb[:10]"
   ]
  },
  {
   "cell_type": "code",
   "execution_count": 22,
   "id": "be59756c",
   "metadata": {},
   "outputs": [
    {
     "data": {
      "text/plain": [
       "(846404, 13)"
      ]
     },
     "execution_count": 22,
     "metadata": {},
     "output_type": "execute_result"
    }
   ],
   "source": [
    "# total number of datapoints\n",
    "stock_df.shape"
   ]
  },
  {
   "cell_type": "markdown",
   "id": "a6762639",
   "metadata": {},
   "source": [
    "846404 rows and 13 colummns"
   ]
  },
  {
   "cell_type": "code",
   "execution_count": 24,
   "id": "f4745a62",
   "metadata": {},
   "outputs": [
    {
     "data": {
      "text/html": [
       "<div>\n",
       "<style scoped>\n",
       "    .dataframe tbody tr th:only-of-type {\n",
       "        vertical-align: middle;\n",
       "    }\n",
       "\n",
       "    .dataframe tbody tr th {\n",
       "        vertical-align: top;\n",
       "    }\n",
       "\n",
       "    .dataframe thead th {\n",
       "        text-align: right;\n",
       "    }\n",
       "</style>\n",
       "<table border=\"1\" class=\"dataframe\">\n",
       "  <thead>\n",
       "    <tr style=\"text-align: right;\">\n",
       "      <th></th>\n",
       "      <th>SYMBOL</th>\n",
       "      <th>SERIES</th>\n",
       "      <th>OPEN</th>\n",
       "      <th>HIGH</th>\n",
       "      <th>LOW</th>\n",
       "      <th>CLOSE</th>\n",
       "      <th>LAST</th>\n",
       "      <th>PREVCLOSE</th>\n",
       "      <th>TOTTRDQTY</th>\n",
       "      <th>TOTTRDVAL</th>\n",
       "      <th>TOTALTRADES</th>\n",
       "      <th>ISIN</th>\n",
       "      <th>PER_DAILY_CHANGE</th>\n",
       "    </tr>\n",
       "    <tr>\n",
       "      <th>TIMESTAMP</th>\n",
       "      <th></th>\n",
       "      <th></th>\n",
       "      <th></th>\n",
       "      <th></th>\n",
       "      <th></th>\n",
       "      <th></th>\n",
       "      <th></th>\n",
       "      <th></th>\n",
       "      <th></th>\n",
       "      <th></th>\n",
       "      <th></th>\n",
       "      <th></th>\n",
       "      <th></th>\n",
       "    </tr>\n",
       "  </thead>\n",
       "  <tbody>\n",
       "    <tr>\n",
       "      <th>2017-06-28</th>\n",
       "      <td>ANDHRABANK</td>\n",
       "      <td>EQ</td>\n",
       "      <td>52.60</td>\n",
       "      <td>54.25</td>\n",
       "      <td>52.40</td>\n",
       "      <td>53.95</td>\n",
       "      <td>54.05</td>\n",
       "      <td>53.45</td>\n",
       "      <td>3191618</td>\n",
       "      <td>1.708973e+08</td>\n",
       "      <td>7202</td>\n",
       "      <td>INE434A01013</td>\n",
       "      <td>2.566540</td>\n",
       "    </tr>\n",
       "    <tr>\n",
       "      <th>2017-06-28</th>\n",
       "      <td>AXISBANK</td>\n",
       "      <td>EQ</td>\n",
       "      <td>493.80</td>\n",
       "      <td>500.35</td>\n",
       "      <td>490.05</td>\n",
       "      <td>492.00</td>\n",
       "      <td>496.45</td>\n",
       "      <td>492.85</td>\n",
       "      <td>12691859</td>\n",
       "      <td>6.260657e+09</td>\n",
       "      <td>76061</td>\n",
       "      <td>INE238A01034</td>\n",
       "      <td>-0.364520</td>\n",
       "    </tr>\n",
       "    <tr>\n",
       "      <th>2017-06-28</th>\n",
       "      <td>BANKBARODA</td>\n",
       "      <td>EQ</td>\n",
       "      <td>153.00</td>\n",
       "      <td>156.40</td>\n",
       "      <td>152.20</td>\n",
       "      <td>155.60</td>\n",
       "      <td>155.90</td>\n",
       "      <td>154.85</td>\n",
       "      <td>6999255</td>\n",
       "      <td>1.083748e+09</td>\n",
       "      <td>41604</td>\n",
       "      <td>INE028A01039</td>\n",
       "      <td>1.699346</td>\n",
       "    </tr>\n",
       "    <tr>\n",
       "      <th>2017-06-28</th>\n",
       "      <td>BANKBEES</td>\n",
       "      <td>EQ</td>\n",
       "      <td>2341.89</td>\n",
       "      <td>2355.72</td>\n",
       "      <td>2335.91</td>\n",
       "      <td>2354.88</td>\n",
       "      <td>2355.00</td>\n",
       "      <td>2347.31</td>\n",
       "      <td>8106</td>\n",
       "      <td>1.904236e+07</td>\n",
       "      <td>318</td>\n",
       "      <td>INF732E01078</td>\n",
       "      <td>0.554680</td>\n",
       "    </tr>\n",
       "    <tr>\n",
       "      <th>2017-06-28</th>\n",
       "      <td>BANKINDIA</td>\n",
       "      <td>EQ</td>\n",
       "      <td>132.00</td>\n",
       "      <td>137.65</td>\n",
       "      <td>131.35</td>\n",
       "      <td>136.75</td>\n",
       "      <td>136.55</td>\n",
       "      <td>133.55</td>\n",
       "      <td>4789755</td>\n",
       "      <td>6.463776e+08</td>\n",
       "      <td>22220</td>\n",
       "      <td>INE084A01016</td>\n",
       "      <td>3.598485</td>\n",
       "    </tr>\n",
       "    <tr>\n",
       "      <th>...</th>\n",
       "      <td>...</td>\n",
       "      <td>...</td>\n",
       "      <td>...</td>\n",
       "      <td>...</td>\n",
       "      <td>...</td>\n",
       "      <td>...</td>\n",
       "      <td>...</td>\n",
       "      <td>...</td>\n",
       "      <td>...</td>\n",
       "      <td>...</td>\n",
       "      <td>...</td>\n",
       "      <td>...</td>\n",
       "      <td>...</td>\n",
       "    </tr>\n",
       "    <tr>\n",
       "      <th>2017-01-23</th>\n",
       "      <td>IDFCBANK</td>\n",
       "      <td>N4</td>\n",
       "      <td>7500.00</td>\n",
       "      <td>7500.00</td>\n",
       "      <td>7460.00</td>\n",
       "      <td>7495.00</td>\n",
       "      <td>7495.00</td>\n",
       "      <td>7500.00</td>\n",
       "      <td>32</td>\n",
       "      <td>2.395373e+05</td>\n",
       "      <td>13</td>\n",
       "      <td>INE092T08CF9</td>\n",
       "      <td>-0.066667</td>\n",
       "    </tr>\n",
       "    <tr>\n",
       "      <th>2017-01-23</th>\n",
       "      <td>IDFCBANK</td>\n",
       "      <td>N5</td>\n",
       "      <td>5156.00</td>\n",
       "      <td>5300.00</td>\n",
       "      <td>5156.00</td>\n",
       "      <td>5300.00</td>\n",
       "      <td>5300.00</td>\n",
       "      <td>5181.00</td>\n",
       "      <td>8</td>\n",
       "      <td>4.182400e+04</td>\n",
       "      <td>2</td>\n",
       "      <td>INE092T08CG7</td>\n",
       "      <td>2.792863</td>\n",
       "    </tr>\n",
       "    <tr>\n",
       "      <th>2017-01-23</th>\n",
       "      <td>IDFCBANK</td>\n",
       "      <td>N6</td>\n",
       "      <td>7685.00</td>\n",
       "      <td>7699.87</td>\n",
       "      <td>7685.00</td>\n",
       "      <td>7687.00</td>\n",
       "      <td>7687.00</td>\n",
       "      <td>7686.00</td>\n",
       "      <td>24</td>\n",
       "      <td>1.845315e+05</td>\n",
       "      <td>8</td>\n",
       "      <td>INE092T08CH5</td>\n",
       "      <td>0.026025</td>\n",
       "    </tr>\n",
       "    <tr>\n",
       "      <th>2017-01-23</th>\n",
       "      <td>IDFCBANK</td>\n",
       "      <td>N8</td>\n",
       "      <td>7651.03</td>\n",
       "      <td>7651.03</td>\n",
       "      <td>7651.03</td>\n",
       "      <td>7651.03</td>\n",
       "      <td>7651.03</td>\n",
       "      <td>7652.60</td>\n",
       "      <td>4</td>\n",
       "      <td>3.060412e+04</td>\n",
       "      <td>2</td>\n",
       "      <td>INE092T08CJ1</td>\n",
       "      <td>0.000000</td>\n",
       "    </tr>\n",
       "    <tr>\n",
       "      <th>2017-01-23</th>\n",
       "      <td>IDFCBANK</td>\n",
       "      <td>N9</td>\n",
       "      <td>5105.00</td>\n",
       "      <td>5150.00</td>\n",
       "      <td>5075.00</td>\n",
       "      <td>5118.66</td>\n",
       "      <td>5103.00</td>\n",
       "      <td>5117.00</td>\n",
       "      <td>50</td>\n",
       "      <td>2.558040e+05</td>\n",
       "      <td>16</td>\n",
       "      <td>INE092T08CK9</td>\n",
       "      <td>0.267581</td>\n",
       "    </tr>\n",
       "  </tbody>\n",
       "</table>\n",
       "<p>200 rows × 13 columns</p>\n",
       "</div>"
      ],
      "text/plain": [
       "                SYMBOL SERIES     OPEN     HIGH      LOW    CLOSE     LAST  \\\n",
       "TIMESTAMP                                                                    \n",
       "2017-06-28  ANDHRABANK     EQ    52.60    54.25    52.40    53.95    54.05   \n",
       "2017-06-28    AXISBANK     EQ   493.80   500.35   490.05   492.00   496.45   \n",
       "2017-06-28  BANKBARODA     EQ   153.00   156.40   152.20   155.60   155.90   \n",
       "2017-06-28    BANKBEES     EQ  2341.89  2355.72  2335.91  2354.88  2355.00   \n",
       "2017-06-28   BANKINDIA     EQ   132.00   137.65   131.35   136.75   136.55   \n",
       "...                ...    ...      ...      ...      ...      ...      ...   \n",
       "2017-01-23    IDFCBANK     N4  7500.00  7500.00  7460.00  7495.00  7495.00   \n",
       "2017-01-23    IDFCBANK     N5  5156.00  5300.00  5156.00  5300.00  5300.00   \n",
       "2017-01-23    IDFCBANK     N6  7685.00  7699.87  7685.00  7687.00  7687.00   \n",
       "2017-01-23    IDFCBANK     N8  7651.03  7651.03  7651.03  7651.03  7651.03   \n",
       "2017-01-23    IDFCBANK     N9  5105.00  5150.00  5075.00  5118.66  5103.00   \n",
       "\n",
       "            PREVCLOSE  TOTTRDQTY     TOTTRDVAL  TOTALTRADES          ISIN  \\\n",
       "TIMESTAMP                                                                   \n",
       "2017-06-28      53.45    3191618  1.708973e+08         7202  INE434A01013   \n",
       "2017-06-28     492.85   12691859  6.260657e+09        76061  INE238A01034   \n",
       "2017-06-28     154.85    6999255  1.083748e+09        41604  INE028A01039   \n",
       "2017-06-28    2347.31       8106  1.904236e+07          318  INF732E01078   \n",
       "2017-06-28     133.55    4789755  6.463776e+08        22220  INE084A01016   \n",
       "...               ...        ...           ...          ...           ...   \n",
       "2017-01-23    7500.00         32  2.395373e+05           13  INE092T08CF9   \n",
       "2017-01-23    5181.00          8  4.182400e+04            2  INE092T08CG7   \n",
       "2017-01-23    7686.00         24  1.845315e+05            8  INE092T08CH5   \n",
       "2017-01-23    7652.60          4  3.060412e+04            2  INE092T08CJ1   \n",
       "2017-01-23    5117.00         50  2.558040e+05           16  INE092T08CK9   \n",
       "\n",
       "            PER_DAILY_CHANGE  \n",
       "TIMESTAMP                     \n",
       "2017-06-28          2.566540  \n",
       "2017-06-28         -0.364520  \n",
       "2017-06-28          1.699346  \n",
       "2017-06-28          0.554680  \n",
       "2017-06-28          3.598485  \n",
       "...                      ...  \n",
       "2017-01-23         -0.066667  \n",
       "2017-01-23          2.792863  \n",
       "2017-01-23          0.026025  \n",
       "2017-01-23          0.000000  \n",
       "2017-01-23          0.267581  \n",
       "\n",
       "[200 rows x 13 columns]"
      ]
     },
     "execution_count": 24,
     "metadata": {},
     "output_type": "execute_result"
    }
   ],
   "source": [
    "#say if we are interested in predicting prices of Banks only\n",
    "bank_stock = stock_df[stock_df['SYMBOL'].str.contains(\"BANK\")]\n",
    "bank_stock.head(200)"
   ]
  },
  {
   "cell_type": "code",
   "execution_count": 27,
   "id": "4c8be091",
   "metadata": {},
   "outputs": [
    {
     "data": {
      "text/plain": [
       "(16958, 13)"
      ]
     },
     "execution_count": 27,
     "metadata": {},
     "output_type": "execute_result"
    }
   ],
   "source": [
    "bank_stock.shape"
   ]
  },
  {
   "cell_type": "code",
   "execution_count": 25,
   "id": "8f5cdaa2",
   "metadata": {},
   "outputs": [
    {
     "data": {
      "text/html": [
       "<div>\n",
       "<style scoped>\n",
       "    .dataframe tbody tr th:only-of-type {\n",
       "        vertical-align: middle;\n",
       "    }\n",
       "\n",
       "    .dataframe tbody tr th {\n",
       "        vertical-align: top;\n",
       "    }\n",
       "\n",
       "    .dataframe thead th {\n",
       "        text-align: right;\n",
       "    }\n",
       "</style>\n",
       "<table border=\"1\" class=\"dataframe\">\n",
       "  <thead>\n",
       "    <tr style=\"text-align: right;\">\n",
       "      <th>SYMBOL</th>\n",
       "      <th>ANDHRABANK</th>\n",
       "      <th>AUBANK</th>\n",
       "      <th>AXISBANK</th>\n",
       "      <th>BANKBARODA</th>\n",
       "      <th>BANKBEES</th>\n",
       "      <th>BANKINDIA</th>\n",
       "      <th>CORPBANK</th>\n",
       "      <th>DCBBANK</th>\n",
       "      <th>DENABANK</th>\n",
       "      <th>DHANBANK</th>\n",
       "      <th>...</th>\n",
       "      <th>MYSOREBANK</th>\n",
       "      <th>ORIENTBANK</th>\n",
       "      <th>RBLBANK</th>\n",
       "      <th>RELBANK</th>\n",
       "      <th>SOUTHBANK</th>\n",
       "      <th>SYNDIBANK</th>\n",
       "      <th>UCOBANK</th>\n",
       "      <th>UNIONBANK</th>\n",
       "      <th>VIJAYABANK</th>\n",
       "      <th>YESBANK</th>\n",
       "    </tr>\n",
       "    <tr>\n",
       "      <th>TIMESTAMP</th>\n",
       "      <th></th>\n",
       "      <th></th>\n",
       "      <th></th>\n",
       "      <th></th>\n",
       "      <th></th>\n",
       "      <th></th>\n",
       "      <th></th>\n",
       "      <th></th>\n",
       "      <th></th>\n",
       "      <th></th>\n",
       "      <th></th>\n",
       "      <th></th>\n",
       "      <th></th>\n",
       "      <th></th>\n",
       "      <th></th>\n",
       "      <th></th>\n",
       "      <th></th>\n",
       "      <th></th>\n",
       "      <th></th>\n",
       "      <th></th>\n",
       "      <th></th>\n",
       "    </tr>\n",
       "  </thead>\n",
       "  <tbody>\n",
       "    <tr>\n",
       "      <th>2016-01-01</th>\n",
       "      <td>66.15</td>\n",
       "      <td>NaN</td>\n",
       "      <td>449.90</td>\n",
       "      <td>159.05</td>\n",
       "      <td>1713.47</td>\n",
       "      <td>117.35</td>\n",
       "      <td>43.45</td>\n",
       "      <td>82.10</td>\n",
       "      <td>41.05</td>\n",
       "      <td>22.05</td>\n",
       "      <td>...</td>\n",
       "      <td>427.30</td>\n",
       "      <td>144.25</td>\n",
       "      <td>NaN</td>\n",
       "      <td>1840.00</td>\n",
       "      <td>19.65</td>\n",
       "      <td>89.85</td>\n",
       "      <td>45.70</td>\n",
       "      <td>150.00</td>\n",
       "      <td>34.20</td>\n",
       "      <td>732.45</td>\n",
       "    </tr>\n",
       "    <tr>\n",
       "      <th>2016-01-04</th>\n",
       "      <td>63.80</td>\n",
       "      <td>NaN</td>\n",
       "      <td>438.40</td>\n",
       "      <td>151.20</td>\n",
       "      <td>1672.95</td>\n",
       "      <td>114.70</td>\n",
       "      <td>42.60</td>\n",
       "      <td>79.95</td>\n",
       "      <td>40.75</td>\n",
       "      <td>22.30</td>\n",
       "      <td>...</td>\n",
       "      <td>419.45</td>\n",
       "      <td>137.45</td>\n",
       "      <td>NaN</td>\n",
       "      <td>1805.70</td>\n",
       "      <td>19.55</td>\n",
       "      <td>86.50</td>\n",
       "      <td>44.60</td>\n",
       "      <td>144.65</td>\n",
       "      <td>33.85</td>\n",
       "      <td>705.75</td>\n",
       "    </tr>\n",
       "    <tr>\n",
       "      <th>2016-01-05</th>\n",
       "      <td>63.55</td>\n",
       "      <td>NaN</td>\n",
       "      <td>436.45</td>\n",
       "      <td>148.10</td>\n",
       "      <td>1668.14</td>\n",
       "      <td>113.90</td>\n",
       "      <td>42.55</td>\n",
       "      <td>79.95</td>\n",
       "      <td>40.50</td>\n",
       "      <td>22.30</td>\n",
       "      <td>...</td>\n",
       "      <td>420.10</td>\n",
       "      <td>136.60</td>\n",
       "      <td>NaN</td>\n",
       "      <td>1787.00</td>\n",
       "      <td>19.95</td>\n",
       "      <td>85.45</td>\n",
       "      <td>44.70</td>\n",
       "      <td>142.95</td>\n",
       "      <td>33.95</td>\n",
       "      <td>707.70</td>\n",
       "    </tr>\n",
       "    <tr>\n",
       "      <th>2016-01-06</th>\n",
       "      <td>63.15</td>\n",
       "      <td>NaN</td>\n",
       "      <td>430.70</td>\n",
       "      <td>148.70</td>\n",
       "      <td>1651.24</td>\n",
       "      <td>114.25</td>\n",
       "      <td>42.20</td>\n",
       "      <td>79.90</td>\n",
       "      <td>40.40</td>\n",
       "      <td>22.05</td>\n",
       "      <td>...</td>\n",
       "      <td>423.15</td>\n",
       "      <td>134.85</td>\n",
       "      <td>NaN</td>\n",
       "      <td>1787.07</td>\n",
       "      <td>20.05</td>\n",
       "      <td>85.40</td>\n",
       "      <td>44.55</td>\n",
       "      <td>143.65</td>\n",
       "      <td>33.90</td>\n",
       "      <td>703.85</td>\n",
       "    </tr>\n",
       "    <tr>\n",
       "      <th>2016-01-07</th>\n",
       "      <td>60.85</td>\n",
       "      <td>NaN</td>\n",
       "      <td>409.25</td>\n",
       "      <td>139.50</td>\n",
       "      <td>1619.80</td>\n",
       "      <td>109.05</td>\n",
       "      <td>41.00</td>\n",
       "      <td>76.10</td>\n",
       "      <td>39.45</td>\n",
       "      <td>20.35</td>\n",
       "      <td>...</td>\n",
       "      <td>420.75</td>\n",
       "      <td>127.15</td>\n",
       "      <td>NaN</td>\n",
       "      <td>1750.10</td>\n",
       "      <td>19.55</td>\n",
       "      <td>81.70</td>\n",
       "      <td>42.45</td>\n",
       "      <td>135.55</td>\n",
       "      <td>33.10</td>\n",
       "      <td>678.85</td>\n",
       "    </tr>\n",
       "  </tbody>\n",
       "</table>\n",
       "<p>5 rows × 29 columns</p>\n",
       "</div>"
      ],
      "text/plain": [
       "SYMBOL      ANDHRABANK  AUBANK  AXISBANK  BANKBARODA  BANKBEES  BANKINDIA  \\\n",
       "TIMESTAMP                                                                   \n",
       "2016-01-01       66.15     NaN    449.90      159.05   1713.47     117.35   \n",
       "2016-01-04       63.80     NaN    438.40      151.20   1672.95     114.70   \n",
       "2016-01-05       63.55     NaN    436.45      148.10   1668.14     113.90   \n",
       "2016-01-06       63.15     NaN    430.70      148.70   1651.24     114.25   \n",
       "2016-01-07       60.85     NaN    409.25      139.50   1619.80     109.05   \n",
       "\n",
       "SYMBOL      CORPBANK  DCBBANK  DENABANK  DHANBANK  ...  MYSOREBANK  \\\n",
       "TIMESTAMP                                          ...               \n",
       "2016-01-01     43.45    82.10     41.05     22.05  ...      427.30   \n",
       "2016-01-04     42.60    79.95     40.75     22.30  ...      419.45   \n",
       "2016-01-05     42.55    79.95     40.50     22.30  ...      420.10   \n",
       "2016-01-06     42.20    79.90     40.40     22.05  ...      423.15   \n",
       "2016-01-07     41.00    76.10     39.45     20.35  ...      420.75   \n",
       "\n",
       "SYMBOL      ORIENTBANK  RBLBANK  RELBANK  SOUTHBANK  SYNDIBANK  UCOBANK  \\\n",
       "TIMESTAMP                                                                 \n",
       "2016-01-01      144.25      NaN  1840.00      19.65      89.85    45.70   \n",
       "2016-01-04      137.45      NaN  1805.70      19.55      86.50    44.60   \n",
       "2016-01-05      136.60      NaN  1787.00      19.95      85.45    44.70   \n",
       "2016-01-06      134.85      NaN  1787.07      20.05      85.40    44.55   \n",
       "2016-01-07      127.15      NaN  1750.10      19.55      81.70    42.45   \n",
       "\n",
       "SYMBOL      UNIONBANK  VIJAYABANK  YESBANK  \n",
       "TIMESTAMP                                   \n",
       "2016-01-01     150.00       34.20   732.45  \n",
       "2016-01-04     144.65       33.85   705.75  \n",
       "2016-01-05     142.95       33.95   707.70  \n",
       "2016-01-06     143.65       33.90   703.85  \n",
       "2016-01-07     135.55       33.10   678.85  \n",
       "\n",
       "[5 rows x 29 columns]"
      ]
     },
     "execution_count": 25,
     "metadata": {},
     "output_type": "execute_result"
    }
   ],
   "source": [
    "#We need to define the columns data we are interested in predicting,\n",
    "# say we want to predict the closing price of all the companies\n",
    "#lets plot a pivot table\n",
    "\n",
    "stock_pivot = bank_stock.pivot_table(values = 'CLOSE', columns = 'SYMBOL', index = 'TIMESTAMP')\n",
    "stock_pivot.head()"
   ]
  },
  {
   "cell_type": "code",
   "execution_count": 26,
   "id": "a2b67e47",
   "metadata": {},
   "outputs": [
    {
     "data": {
      "text/plain": [
       "(495, 29)"
      ]
     },
     "execution_count": 26,
     "metadata": {},
     "output_type": "execute_result"
    }
   ],
   "source": [
    "stock_pivot.shape"
   ]
  },
  {
   "cell_type": "code",
   "execution_count": 28,
   "id": "b98c0046",
   "metadata": {},
   "outputs": [
    {
     "data": {
      "text/html": [
       "<div>\n",
       "<style scoped>\n",
       "    .dataframe tbody tr th:only-of-type {\n",
       "        vertical-align: middle;\n",
       "    }\n",
       "\n",
       "    .dataframe tbody tr th {\n",
       "        vertical-align: top;\n",
       "    }\n",
       "\n",
       "    .dataframe thead th {\n",
       "        text-align: right;\n",
       "    }\n",
       "</style>\n",
       "<table border=\"1\" class=\"dataframe\">\n",
       "  <thead>\n",
       "    <tr style=\"text-align: right;\">\n",
       "      <th>SYMBOL</th>\n",
       "      <th>ANDHRABANK</th>\n",
       "      <th>AXISBANK</th>\n",
       "      <th>BANKBARODA</th>\n",
       "      <th>BANKBEES</th>\n",
       "      <th>BANKINDIA</th>\n",
       "      <th>CORPBANK</th>\n",
       "      <th>DCBBANK</th>\n",
       "      <th>DENABANK</th>\n",
       "      <th>DHANBANK</th>\n",
       "      <th>HDFCBANK</th>\n",
       "      <th>...</th>\n",
       "      <th>KOTAKBANK</th>\n",
       "      <th>KTKBANK</th>\n",
       "      <th>MAHABANK</th>\n",
       "      <th>ORIENTBANK</th>\n",
       "      <th>SOUTHBANK</th>\n",
       "      <th>SYNDIBANK</th>\n",
       "      <th>UCOBANK</th>\n",
       "      <th>UNIONBANK</th>\n",
       "      <th>VIJAYABANK</th>\n",
       "      <th>YESBANK</th>\n",
       "    </tr>\n",
       "    <tr>\n",
       "      <th>TIMESTAMP</th>\n",
       "      <th></th>\n",
       "      <th></th>\n",
       "      <th></th>\n",
       "      <th></th>\n",
       "      <th></th>\n",
       "      <th></th>\n",
       "      <th></th>\n",
       "      <th></th>\n",
       "      <th></th>\n",
       "      <th></th>\n",
       "      <th></th>\n",
       "      <th></th>\n",
       "      <th></th>\n",
       "      <th></th>\n",
       "      <th></th>\n",
       "      <th></th>\n",
       "      <th></th>\n",
       "      <th></th>\n",
       "      <th></th>\n",
       "      <th></th>\n",
       "      <th></th>\n",
       "    </tr>\n",
       "  </thead>\n",
       "  <tbody>\n",
       "    <tr>\n",
       "      <th>2016-01-01</th>\n",
       "      <td>66.15</td>\n",
       "      <td>449.90</td>\n",
       "      <td>159.05</td>\n",
       "      <td>1713.47</td>\n",
       "      <td>117.35</td>\n",
       "      <td>43.45</td>\n",
       "      <td>82.10</td>\n",
       "      <td>41.05</td>\n",
       "      <td>22.05</td>\n",
       "      <td>1193.65</td>\n",
       "      <td>...</td>\n",
       "      <td>723.625</td>\n",
       "      <td>124.80</td>\n",
       "      <td>32.25</td>\n",
       "      <td>144.25</td>\n",
       "      <td>19.65</td>\n",
       "      <td>89.85</td>\n",
       "      <td>45.70</td>\n",
       "      <td>150.00</td>\n",
       "      <td>34.20</td>\n",
       "      <td>732.45</td>\n",
       "    </tr>\n",
       "    <tr>\n",
       "      <th>2016-01-04</th>\n",
       "      <td>63.80</td>\n",
       "      <td>438.40</td>\n",
       "      <td>151.20</td>\n",
       "      <td>1672.95</td>\n",
       "      <td>114.70</td>\n",
       "      <td>42.60</td>\n",
       "      <td>79.95</td>\n",
       "      <td>40.75</td>\n",
       "      <td>22.30</td>\n",
       "      <td>1070.50</td>\n",
       "      <td>...</td>\n",
       "      <td>705.300</td>\n",
       "      <td>120.90</td>\n",
       "      <td>31.70</td>\n",
       "      <td>137.45</td>\n",
       "      <td>19.55</td>\n",
       "      <td>86.50</td>\n",
       "      <td>44.60</td>\n",
       "      <td>144.65</td>\n",
       "      <td>33.85</td>\n",
       "      <td>705.75</td>\n",
       "    </tr>\n",
       "    <tr>\n",
       "      <th>2016-01-05</th>\n",
       "      <td>63.55</td>\n",
       "      <td>436.45</td>\n",
       "      <td>148.10</td>\n",
       "      <td>1668.14</td>\n",
       "      <td>113.90</td>\n",
       "      <td>42.55</td>\n",
       "      <td>79.95</td>\n",
       "      <td>40.50</td>\n",
       "      <td>22.30</td>\n",
       "      <td>1169.20</td>\n",
       "      <td>...</td>\n",
       "      <td>707.750</td>\n",
       "      <td>119.50</td>\n",
       "      <td>32.05</td>\n",
       "      <td>136.60</td>\n",
       "      <td>19.95</td>\n",
       "      <td>85.45</td>\n",
       "      <td>44.70</td>\n",
       "      <td>142.95</td>\n",
       "      <td>33.95</td>\n",
       "      <td>707.70</td>\n",
       "    </tr>\n",
       "    <tr>\n",
       "      <th>2016-01-06</th>\n",
       "      <td>63.15</td>\n",
       "      <td>430.70</td>\n",
       "      <td>148.70</td>\n",
       "      <td>1651.24</td>\n",
       "      <td>114.25</td>\n",
       "      <td>42.20</td>\n",
       "      <td>79.90</td>\n",
       "      <td>40.40</td>\n",
       "      <td>22.05</td>\n",
       "      <td>1067.10</td>\n",
       "      <td>...</td>\n",
       "      <td>703.600</td>\n",
       "      <td>118.65</td>\n",
       "      <td>31.85</td>\n",
       "      <td>134.85</td>\n",
       "      <td>20.05</td>\n",
       "      <td>85.40</td>\n",
       "      <td>44.55</td>\n",
       "      <td>143.65</td>\n",
       "      <td>33.90</td>\n",
       "      <td>703.85</td>\n",
       "    </tr>\n",
       "    <tr>\n",
       "      <th>2016-01-07</th>\n",
       "      <td>60.85</td>\n",
       "      <td>409.25</td>\n",
       "      <td>139.50</td>\n",
       "      <td>1619.80</td>\n",
       "      <td>109.05</td>\n",
       "      <td>41.00</td>\n",
       "      <td>76.10</td>\n",
       "      <td>39.45</td>\n",
       "      <td>20.35</td>\n",
       "      <td>1056.20</td>\n",
       "      <td>...</td>\n",
       "      <td>691.650</td>\n",
       "      <td>112.95</td>\n",
       "      <td>31.15</td>\n",
       "      <td>127.15</td>\n",
       "      <td>19.55</td>\n",
       "      <td>81.70</td>\n",
       "      <td>42.45</td>\n",
       "      <td>135.55</td>\n",
       "      <td>33.10</td>\n",
       "      <td>678.85</td>\n",
       "    </tr>\n",
       "  </tbody>\n",
       "</table>\n",
       "<p>5 rows × 24 columns</p>\n",
       "</div>"
      ],
      "text/plain": [
       "SYMBOL      ANDHRABANK  AXISBANK  BANKBARODA  BANKBEES  BANKINDIA  CORPBANK  \\\n",
       "TIMESTAMP                                                                     \n",
       "2016-01-01       66.15    449.90      159.05   1713.47     117.35     43.45   \n",
       "2016-01-04       63.80    438.40      151.20   1672.95     114.70     42.60   \n",
       "2016-01-05       63.55    436.45      148.10   1668.14     113.90     42.55   \n",
       "2016-01-06       63.15    430.70      148.70   1651.24     114.25     42.20   \n",
       "2016-01-07       60.85    409.25      139.50   1619.80     109.05     41.00   \n",
       "\n",
       "SYMBOL      DCBBANK  DENABANK  DHANBANK  HDFCBANK  ...  KOTAKBANK  KTKBANK  \\\n",
       "TIMESTAMP                                          ...                       \n",
       "2016-01-01    82.10     41.05     22.05   1193.65  ...    723.625   124.80   \n",
       "2016-01-04    79.95     40.75     22.30   1070.50  ...    705.300   120.90   \n",
       "2016-01-05    79.95     40.50     22.30   1169.20  ...    707.750   119.50   \n",
       "2016-01-06    79.90     40.40     22.05   1067.10  ...    703.600   118.65   \n",
       "2016-01-07    76.10     39.45     20.35   1056.20  ...    691.650   112.95   \n",
       "\n",
       "SYMBOL      MAHABANK  ORIENTBANK  SOUTHBANK  SYNDIBANK  UCOBANK  UNIONBANK  \\\n",
       "TIMESTAMP                                                                    \n",
       "2016-01-01     32.25      144.25      19.65      89.85    45.70     150.00   \n",
       "2016-01-04     31.70      137.45      19.55      86.50    44.60     144.65   \n",
       "2016-01-05     32.05      136.60      19.95      85.45    44.70     142.95   \n",
       "2016-01-06     31.85      134.85      20.05      85.40    44.55     143.65   \n",
       "2016-01-07     31.15      127.15      19.55      81.70    42.45     135.55   \n",
       "\n",
       "SYMBOL      VIJAYABANK  YESBANK  \n",
       "TIMESTAMP                        \n",
       "2016-01-01       34.20   732.45  \n",
       "2016-01-04       33.85   705.75  \n",
       "2016-01-05       33.95   707.70  \n",
       "2016-01-06       33.90   703.85  \n",
       "2016-01-07       33.10   678.85  \n",
       "\n",
       "[5 rows x 24 columns]"
      ]
     },
     "execution_count": 28,
     "metadata": {},
     "output_type": "execute_result"
    }
   ],
   "source": [
    "#let's drop those columns in which there are missing values\n",
    "stock_pivot.dropna(axis = 1, how = 'any', inplace = True)\n",
    "stock_pivot.head()"
   ]
  },
  {
   "cell_type": "code",
   "execution_count": 30,
   "id": "e1f9f326",
   "metadata": {},
   "outputs": [
    {
     "data": {
      "text/plain": [
       "(495, 24)"
      ]
     },
     "execution_count": 30,
     "metadata": {},
     "output_type": "execute_result"
    }
   ],
   "source": [
    "stock_pivot.shape"
   ]
  },
  {
   "cell_type": "code",
   "execution_count": 35,
   "id": "b3d30f52",
   "metadata": {},
   "outputs": [
    {
     "name": "stdout",
     "output_type": "stream",
     "text": [
      "Bank is =  CORPBANK\n"
     ]
    },
    {
     "data": {
      "image/png": "[encoded data removed]",
      "text/plain": [
       "<Figure size 432x288 with 1 Axes>"
      ]
     },
     "metadata": {
      "needs_background": "light"
     },
     "output_type": "display_data"
    }
   ],
   "source": [
    "#most important thing in time series analysis is to have correlation between the values at different timestamp\n",
    "#choose one bank at random and look for correlation using lag plot with lag value 1\n",
    "np.random.seed()\n",
    "bank = stock_pivot.columns.values[np.random.randint(0, len(stock_pivot.columns)+1)]\n",
    "print(\"Bank is = \", bank)\n",
    "pd.plotting.lag_plot(stock_pivot[bank])\n",
    "plt.show()"
   ]
  },
  {
   "cell_type": "markdown",
   "id": "50b644a5",
   "metadata": {},
   "source": [
    "As we can see in the above plot that there is strong correlation bewteen the datapoints. So, we are good to go with time series analysis on the above data"
   ]
  },
  {
   "cell_type": "code",
   "execution_count": 36,
   "id": "7bb5c73b",
   "metadata": {},
   "outputs": [
    {
     "data": {
      "image/png": "[encoded data removed]",
      "text/plain": [
       "<Figure size 432x288 with 1 Axes>"
      ]
     },
     "metadata": {
      "needs_background": "light"
     },
     "output_type": "display_data"
    }
   ],
   "source": [
    "stock_pivot.plot(kind ='line', y = bank)\n",
    "plt.show()"
   ]
  },
  {
   "cell_type": "code",
   "execution_count": 40,
   "id": "654b9c6c",
   "metadata": {},
   "outputs": [],
   "source": [
    "# #check for correlation using heatmap\n",
    " #plt.figure(figsize = (14,14))\n",
    "# sns.heatmap(stock_pivot.corr(method='pearson'),annot=True, linewidth = 1)"
   ]
  },
  {
   "cell_type": "markdown",
   "id": "8051a3eb",
   "metadata": {},
   "source": [
    "The most important thing in autocorrelation analysis is to know the appropriate lag value. we can manually do that. Let's do that"
   ]
  },
  {
   "cell_type": "code",
   "execution_count": 43,
   "id": "386cbef6",
   "metadata": {},
   "outputs": [
    {
     "ename": "SyntaxError",
     "evalue": "unexpected EOF while parsing (2338327241.py, line 11)",
     "output_type": "error",
     "traceback": [
      "\u001b[1;36m  Input \u001b[1;32mIn [43]\u001b[1;36m\u001b[0m\n\u001b[1;33m    print(\"apprpriate lag value is \", lag\u001b[0m\n\u001b[1;37m                                         ^\u001b[0m\n\u001b[1;31mSyntaxError\u001b[0m\u001b[1;31m:\u001b[0m unexpected EOF while parsing\n"
     ]
    }
   ],
   "source": [
    "# find appropriate lag value for the autocorrelation analysis\n",
    "MAX_LAG = 30 #maximum lag value\n",
    "corr = 0\n",
    "lag = 1\n",
    "for i in range(1, MAX_LAG):\n",
    "    temp = np.abs(stock_pivot[bank].corr(stock_pivot[bank].shift(i)))\n",
    "    if temp > corr:\n",
    "        corr = temp\n",
    "        lag = i\n",
    "\n",
    "print(\"apprpriate lag value is \", lag"
   ]
  },
  {
   "cell_type": "code",
   "execution_count": 44,
   "id": "6284a65f",
   "metadata": {},
   "outputs": [
    {
     "data": {
      "image/png": "[encoded data removed]",
      "text/plain": [
       "<Figure size 432x288 with 1 Axes>"
      ]
     },
     "metadata": {
      "needs_background": "light"
     },
     "output_type": "display_data"
    }
   ],
   "source": [
    "#Let's cross check our value using pandas autocorrelation plot\n",
    "pd.plotting.autocorrelation_plot(stock_pivot[bank])\n",
    "plt.show()"
   ]
  },
  {
   "cell_type": "markdown",
   "id": "60ed5e25",
   "metadata": {},
   "source": [
    "We can see in the above plot that the autocorrelation corresponding to lag value 1 is maximum hence shows strong correlation btwn the variable"
   ]
  },
  {
   "cell_type": "markdown",
   "id": "4cabcffa",
   "metadata": {},
   "source": [
    "# Check for Trend and seasonality"
   ]
  },
  {
   "cell_type": "code",
   "execution_count": 45,
   "id": "4b168e51",
   "metadata": {},
   "outputs": [],
   "source": [
    "from statsmodels.tsa.seasonal import seasonal_decompose"
   ]
  },
  {
   "cell_type": "code",
   "execution_count": 46,
   "id": "add284e3",
   "metadata": {},
   "outputs": [
    {
     "data": {
      "image/png": "[encoded data removed]",
      "text/plain": [
       "<Figure size 432x288 with 4 Axes>"
      ]
     },
     "metadata": {
      "needs_background": "light"
     },
     "output_type": "display_data"
    }
   ],
   "source": [
    "#seasonal decomposition using period of 1\n",
    "decomposed = seasonal_decompose(stock_pivot[bank], model='additive', period = 1)\n",
    "\n",
    "x = decomposed.plot()"
   ]
  },
  {
   "cell_type": "code",
   "execution_count": 49,
   "id": "ccf837ce",
   "metadata": {},
   "outputs": [
    {
     "data": {
      "text/plain": [
       "TIMESTAMP\n",
       "2016-01-01     NaN\n",
       "2016-01-04   -0.85\n",
       "2016-01-05   -0.05\n",
       "2016-01-06   -0.35\n",
       "2016-01-07   -1.20\n",
       "              ... \n",
       "2017-12-22    0.40\n",
       "2017-12-26    0.45\n",
       "2017-12-27   -0.55\n",
       "2017-12-28   -0.20\n",
       "2017-12-29   -0.45\n",
       "Name: STATIONARY, Length: 495, dtype: float64"
      ]
     },
     "execution_count": 49,
     "metadata": {},
     "output_type": "execute_result"
    }
   ],
   "source": [
    "# remove seasonality and trend\n",
    "df = stock_pivot.copy()\n",
    "df['STATIONARY'] = df[bank].diff()\n",
    "df.STATIONARY"
   ]
  },
  {
   "cell_type": "code",
   "execution_count": 50,
   "id": "f83f7e6c",
   "metadata": {},
   "outputs": [
    {
     "data": {
      "image/png": "[encoded data removed]",
      "text/plain": [
       "<Figure size 432x288 with 4 Axes>"
      ]
     },
     "metadata": {
      "needs_background": "light"
     },
     "output_type": "display_data"
    }
   ],
   "source": [
    "# Recheck for seasonality and trend\n",
    "df.dropna(axis = 0, inplace = True)\n",
    "decomposed = seasonal_decompose(df['STATIONARY'], model='additive', period = 1)\n",
    "x = decomposed.plot()"
   ]
  },
  {
   "cell_type": "markdown",
   "id": "9cbcc8fe",
   "metadata": {},
   "source": [
    "# AR(1) Model"
   ]
  },
  {
   "cell_type": "code",
   "execution_count": 51,
   "id": "44f5f0fc",
   "metadata": {},
   "outputs": [
    {
     "data": {
      "text/plain": [
       "((395,), (395,))"
      ]
     },
     "execution_count": 51,
     "metadata": {},
     "output_type": "execute_result"
    }
   ],
   "source": [
    "#divide data in train and test\n",
    "freq = 7\n",
    "X = df['STATIONARY']\n",
    "Y =  X.shift(1).dropna()\n",
    "Y, X\n",
    "train_size = int(len(X)*0.8)\n",
    "# train, test = X[1: len(X)-freq], X[len(X)-freq : ]\n",
    "# train.shape, test.shape\n",
    "x_train, x_test = X[0:train_size], X[train_size:len(X)-1]\n",
    "y_train, y_test = Y[0:train_size], Y[train_size:]\n",
    "x_train.shape, y_train.shape"
   ]
  },
  {
   "cell_type": "code",
   "execution_count": 54,
   "id": "ad087b83",
   "metadata": {},
   "outputs": [
    {
     "name": "stdout",
     "output_type": "stream",
     "text": [
      "1.0\n"
     ]
    }
   ],
   "source": [
    "#AR1 equation is given by\n",
    "#x_t = ϕ_{t-1} + ϵ\n",
    "\n",
    "#find ϕ using OLS (ordinary least square)\n",
    "phi = np.dot(x_train.values,y_train.values.T)/np.dot(x_train, x_train.T)\n",
    "print(phi)"
   ]
  },
  {
   "cell_type": "code",
   "execution_count": 55,
   "id": "055dabcf",
   "metadata": {},
   "outputs": [
    {
     "data": {
      "text/plain": [
       "TIMESTAMP\n",
       "2017-08-08   -0.15\n",
       "2017-08-09    1.70\n",
       "2017-08-10   -3.85\n",
       "2017-08-11    0.25\n",
       "2017-08-14   -0.70\n",
       "              ... \n",
       "2017-12-21    0.50\n",
       "2017-12-22    0.40\n",
       "2017-12-26    0.45\n",
       "2017-12-27   -0.55\n",
       "2017-12-28   -0.20\n",
       "Name: STATIONARY, Length: 98, dtype: float64"
      ]
     },
     "execution_count": 55,
     "metadata": {},
     "output_type": "execute_result"
    }
   ],
   "source": [
    "#check the prediction over test data\n",
    "pred = phi*x_test\n",
    "pred"
   ]
  },
  {
   "cell_type": "code",
   "execution_count": 57,
   "id": "958f2a5a",
   "metadata": {},
   "outputs": [
    {
     "data": {
      "text/plain": [
       "TIMESTAMP\n",
       "2017-08-09   -0.15\n",
       "2017-08-10    1.70\n",
       "2017-08-11   -3.85\n",
       "2017-08-14    0.25\n",
       "2017-08-16   -0.70\n",
       "              ... \n",
       "2017-12-22    0.50\n",
       "2017-12-26    0.40\n",
       "2017-12-27    0.45\n",
       "2017-12-28   -0.55\n",
       "2017-12-29   -0.20\n",
       "Name: STATIONARY, Length: 98, dtype: float64"
      ]
     },
     "execution_count": 57,
     "metadata": {},
     "output_type": "execute_result"
    }
   ],
   "source": [
    "y_test"
   ]
  },
  {
   "cell_type": "code",
   "execution_count": 60,
   "id": "94b6238b",
   "metadata": {},
   "outputs": [
    {
     "name": "stdout",
     "output_type": "stream",
     "text": [
      "R square is  1.0\n"
     ]
    }
   ],
   "source": [
    "#finding mean square error\n",
    "import sklearn.metrics as m\n",
    "r2 =m.r2_score(y_test, pred)\n",
    "print(\"R square is \", r2)"
   ]
  },
  {
   "cell_type": "code",
   "execution_count": 61,
   "id": "c7f2ef12",
   "metadata": {},
   "outputs": [
    {
     "data": {
      "image/png": "[encoded data removed]",
      "text/plain": [
       "<Figure size 432x288 with 1 Axes>"
      ]
     },
     "metadata": {
      "needs_background": "light"
     },
     "output_type": "display_data"
    }
   ],
   "source": [
    "#let's plot the predicted vs test value\n",
    "plt.plot(y_test)\n",
    "plt.plot(pred)\n",
    "plt.show()"
   ]
  },
  {
   "cell_type": "markdown",
   "id": "e59d7d7b",
   "metadata": {},
   "source": [
    "As it can be seen in the above plot that we are nearly predicting the exact value as it should. it makes sense as we can see in the correlation plot that all the data points are perfectly cluttered along the diagonal"
   ]
  },
  {
   "cell_type": "code",
   "execution_count": null,
   "id": "b4e4598c",
   "metadata": {},
   "outputs": [],
   "source": [
    "END!"
   ]
  }
 ],
 "metadata": {
  "kernelspec": {
   "display_name": "Python 3 (ipykernel)",
   "language": "python",
   "name": "python3"
  },
  "language_info": {
   "codemirror_mode": {
    "name": "ipython",
    "version": 3
   },
   "file_extension": ".py",
   "mimetype": "text/x-python",
   "name": "python",
   "nbconvert_exporter": "python",
   "pygments_lexer": "ipython3",
   "version": "3.9.12"
  }
 },
 "nbformat": 4,
 "nbformat_minor": 5
}
